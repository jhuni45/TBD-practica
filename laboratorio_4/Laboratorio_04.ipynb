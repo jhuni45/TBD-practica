{
  "nbformat": 4,
  "nbformat_minor": 0,
  "metadata": {
    "colab": {
      "name": "Laboratorio_04.ipynb",
      "provenance": [],
      "collapsed_sections": [],
      "toc_visible": true
    },
    "kernelspec": {
      "name": "python3",
      "display_name": "Python 3"
    },
    "accelerator": "GPU"
  },
  "cells": [
    {
      "cell_type": "markdown",
      "metadata": {
        "id": "1zUhlq_Xvf3W",
        "colab_type": "text"
      },
      "source": [
        "OBTENCIÓN DE LIBRERÍAS"
      ]
    },
    {
      "cell_type": "code",
      "metadata": {
        "id": "2mIiE97gMLC7",
        "colab_type": "code",
        "outputId": "6e0311cf-59fe-443b-d7ac-67287e9e7543",
        "colab": {
          "base_uri": "https://localhost:8080/",
          "height": 503
        }
      },
      "source": [
        "!cmake ."
      ],
      "execution_count": 0,
      "outputs": [
        {
          "output_type": "stream",
          "text": [
            "-- The C compiler identification is GNU 7.5.0\n",
            "-- The CXX compiler identification is GNU 7.5.0\n",
            "-- Check for working C compiler: /usr/bin/cc\n",
            "-- Check for working C compiler: /usr/bin/cc -- works\n",
            "-- Detecting C compiler ABI info\n",
            "-- Detecting C compiler ABI info - done\n",
            "-- Detecting C compile features\n",
            "-- Detecting C compile features - done\n",
            "-- Check for working CXX compiler: /usr/bin/c++\n",
            "-- Check for working CXX compiler: /usr/bin/c++ -- works\n",
            "-- Detecting CXX compiler ABI info\n",
            "-- Detecting CXX compiler ABI info - done\n",
            "-- Detecting CXX compile features\n",
            "-- Detecting CXX compile features - done\n",
            "-- Looking for pthread.h\n",
            "-- Looking for pthread.h - found\n",
            "-- Looking for pthread_create\n",
            "-- Looking for pthread_create - not found\n",
            "-- Looking for pthread_create in pthreads\n",
            "-- Looking for pthread_create in pthreads - not found\n",
            "-- Looking for pthread_create in pthread\n",
            "-- Looking for pthread_create in pthread - found\n",
            "-- Found Threads: TRUE  \n",
            "-- Found CUDA: /usr/local/cuda (found version \"10.1\") \n",
            "-- Found OpenCV: /usr (found version \"3.2.0\") \n",
            "-- Configuring done\n",
            "-- Generating done\n",
            "-- Build files have been written to: /content\n"
          ],
          "name": "stdout"
        }
      ]
    },
    {
      "cell_type": "markdown",
      "metadata": {
        "id": "cm9a-MT4dYW5",
        "colab_type": "text"
      },
      "source": [
        "# EJECUCIONES"
      ]
    },
    {
      "cell_type": "markdown",
      "metadata": {
        "id": "J0jIY-FjLO4f",
        "colab_type": "text"
      },
      "source": [
        "Compilación"
      ]
    },
    {
      "cell_type": "code",
      "metadata": {
        "id": "lywoEtsMMT7T",
        "colab_type": "code",
        "outputId": "474f8af6-28e0-4e04-97ec-d16092d46ae5",
        "colab": {
          "base_uri": "https://localhost:8080/",
          "height": 69
        }
      },
      "source": [
        "!make"
      ],
      "execution_count": 0,
      "outputs": [
        {
          "output_type": "stream",
          "text": [
            "[ 11%] \u001b[34m\u001b[1mBuilding NVCC (Device) object CMakeFiles/global_op.dir/global_op_generated_image_equalization.cu.o\u001b[0m\n",
            "[ 22%] \u001b[32m\u001b[1mLinking CXX executable global_op\u001b[0m\n",
            "[100%] Built target global_op\n"
          ],
          "name": "stdout"
        }
      ]
    },
    {
      "cell_type": "markdown",
      "metadata": {
        "id": "QKD_OjRoLBaj",
        "colab_type": "text"
      },
      "source": [
        "Corrección Gamma (-g)\n",
        "- El tercer parámetro es el valor de gamma"
      ]
    },
    {
      "cell_type": "code",
      "metadata": {
        "id": "48MybC-vMbFk",
        "colab_type": "code",
        "colab": {}
      },
      "source": [
        "!./global_op -g image.jpg 0.5"
      ],
      "execution_count": 0,
      "outputs": []
    },
    {
      "cell_type": "markdown",
      "metadata": {
        "id": "HCSXTCqWLZl9",
        "colab_type": "text"
      },
      "source": [
        "Suma media ponderada (-s)\n",
        "- El cuarto parámetro es el porcentaje"
      ]
    },
    {
      "cell_type": "code",
      "metadata": {
        "id": "s0foJJYJJ9Sv",
        "colab_type": "code",
        "colab": {}
      },
      "source": [
        "!./global_op -s image.jpg image2.jpg 0.5"
      ],
      "execution_count": 0,
      "outputs": []
    },
    {
      "cell_type": "markdown",
      "metadata": {
        "id": "H5YI9R4vPyH1",
        "colab_type": "text"
      },
      "source": [
        "Binarización (-b)\n",
        "  - El tercer parámetro es un *threshold*\n",
        "  - Se la convierte en escala de grises\n",
        "  - Se binariza"
      ]
    },
    {
      "cell_type": "code",
      "metadata": {
        "id": "NCKN4a7WPtWU",
        "colab_type": "code",
        "colab": {}
      },
      "source": [
        "!./global_op -b person.jpg 160\n",
        "!./global_op -b image.jpg 160\n",
        "!./global_op -b image2.jpg 160"
      ],
      "execution_count": 0,
      "outputs": []
    },
    {
      "cell_type": "markdown",
      "metadata": {
        "id": "jw5Ii6pjMh-9",
        "colab_type": "text"
      },
      "source": [
        "Operador *not* (-not)\n",
        "  - Ingresa una imagen binarizada\n",
        "  - Se invierten los elementos"
      ]
    },
    {
      "cell_type": "code",
      "metadata": {
        "id": "MIOmSC5MLKWL",
        "colab_type": "code",
        "colab": {}
      },
      "source": [
        "!./global_op -not person.jpg_binary.png"
      ],
      "execution_count": 0,
      "outputs": []
    },
    {
      "cell_type": "markdown",
      "metadata": {
        "id": "uvTJEwajvJpI",
        "colab_type": "text"
      },
      "source": [
        "Operador *and* (-and)\n",
        "  - Ingresa 2 imagenes binarizadas"
      ]
    },
    {
      "cell_type": "code",
      "metadata": {
        "id": "GQBwniP7kTbj",
        "colab_type": "code",
        "colab": {}
      },
      "source": [
        "!./global_op -and image.jpg_binary.png image2.jpg_binary.png"
      ],
      "execution_count": 0,
      "outputs": []
    },
    {
      "cell_type": "markdown",
      "metadata": {
        "id": "7AUDbtKBvWma",
        "colab_type": "text"
      },
      "source": [
        "Operador *or* (-or)\n",
        "  - Ingresa 2 imagenes binarizadas"
      ]
    },
    {
      "cell_type": "code",
      "metadata": {
        "id": "uL_lBNqZpE-I",
        "colab_type": "code",
        "colab": {}
      },
      "source": [
        "!./global_op -or image.jpg_binary.png image2.jpg_binary.png"
      ],
      "execution_count": 0,
      "outputs": []
    },
    {
      "cell_type": "markdown",
      "metadata": {
        "id": "qey5a3eePbd8",
        "colab_type": "text"
      },
      "source": [
        "Equalización (-eq)"
      ]
    },
    {
      "cell_type": "code",
      "metadata": {
        "id": "co0_Ei_iPaV4",
        "colab_type": "code",
        "colab": {}
      },
      "source": [
        "!./global_op -eq image.jpg"
      ],
      "execution_count": 0,
      "outputs": []
    }
  ]
}