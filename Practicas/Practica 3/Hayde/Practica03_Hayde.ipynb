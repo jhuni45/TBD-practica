{
  "nbformat": 4,
  "nbformat_minor": 0,
  "metadata": {
    "colab": {
      "name": "Practica03_Hayde.ipynb",
      "provenance": [],
      "toc_visible": true
    },
    "kernelspec": {
      "name": "python3",
      "display_name": "Python 3"
    }
  },
  "cells": [
    {
      "cell_type": "markdown",
      "metadata": {
        "id": "9cPL39Ebbzgd",
        "colab_type": "text"
      },
      "source": [
        "# ***PRACTICA 03: Transformaciones geométricas en OpenCV*** \n",
        "### HAYDE LUZMILA HUMPIRE CUTIPA \n",
        "\n"
      ]
    },
    {
      "cell_type": "markdown",
      "metadata": {
        "id": "k8T5MVpYb9JC",
        "colab_type": "text"
      },
      "source": [
        "### **Transformaciones geométricas en OpenCV:**\n",
        "1.   Ejercicio_1: Realizar el zoom 2x de una imagen img (modo in-place).\n",
        "2.   Ejercicio_2: Realizar el espejo vertical y horizontal de una imagen.\n",
        "3.   Ejercicio_3: Rotar y escalar una imagen indicando ángulo y escala.\n",
        "4.   Ejercicio_4: Inclinar (shear) la imagen img en X en angulo grados y desplazar en X para que se quede centrada.\n",
        "5.   Ejercicio_5: Aplicar una transformación afín a una imagen img, suponiendo\n",
        "que tenemos 3 puntos en img y los 3 puntos correspondientes en destino.\n",
        "\n",
        "\n"
      ]
    },
    {
      "cell_type": "markdown",
      "metadata": {
        "id": "FTvJhAnIc2mk",
        "colab_type": "text"
      },
      "source": [
        "## **EJERCICIO 1: Realizar el zoom 2x de una imagen img (modo in-place).**"
      ]
    },
    {
      "cell_type": "code",
      "metadata": {
        "id": "FO5xauYEdp00",
        "colab_type": "code",
        "colab": {
          "base_uri": "https://localhost:8080/",
          "height": 35
        },
        "outputId": "1c5717b4-fafb-4b1a-98f9-868f9be4907c"
      },
      "source": [
        "%%writefile ejercicio1.cpp\n",
        "#include <opencv2/opencv.hpp>\n",
        "#include <bits/stdc++.h>\n",
        "using namespace cv;\n",
        "using namespace std;\n",
        "\n",
        "int main(){\n",
        "  Mat img=imread(\"imagen1.jpg\");\n",
        "  if ( !img.data){\n",
        "        return -1;\n",
        "    }\n",
        "  resize (img, img, Size(), 2, 2);\n",
        "  imwrite(\"1_Transformacion_Zoomx2.jpg\", img);\n",
        "  return 0;\n",
        "}"
      ],
      "execution_count": 497,
      "outputs": [
        {
          "output_type": "stream",
          "text": [
            "Writing ejercicio1.cpp\n"
          ],
          "name": "stdout"
        }
      ]
    },
    {
      "cell_type": "code",
      "metadata": {
        "id": "-_HdafDXdxV7",
        "colab_type": "code",
        "colab": {}
      },
      "source": [
        "!g++ ejercicio1.cpp `pkg-config --cflags --libs opencv` -o filtrosOpenCV; ./filtrosOpenCV"
      ],
      "execution_count": 498,
      "outputs": []
    },
    {
      "cell_type": "markdown",
      "metadata": {
        "id": "ex0LtGGLdHOC",
        "colab_type": "text"
      },
      "source": [
        "## **EJERCICIO 2: Realizar el espejo vertical y horizontal de una imagen.**"
      ]
    },
    {
      "cell_type": "code",
      "metadata": {
        "id": "LxcKUnnrdqVj",
        "colab_type": "code",
        "colab": {
          "base_uri": "https://localhost:8080/",
          "height": 35
        },
        "outputId": "78c5d722-4ee9-4e25-c343-f0ce485ef498"
      },
      "source": [
        "%%writefile ejercicio2.cpp\n",
        "#include <opencv2/opencv.hpp>\n",
        "#include <bits/stdc++.h>\n",
        "\n",
        "using namespace cv;\n",
        "using namespace std;\n",
        "\n",
        "int main(){\n",
        "  Mat img=imread(\"imagen1.jpg\");\n",
        "\tif ( !img.data){\n",
        "        return -1;\n",
        "    }\n",
        "  Mat dst;\n",
        "  flip (img, dst, 1);\n",
        "  imwrite(\"2_Transformacion_Espejo_Horizontal.jpg\", dst);\n",
        "  flip (img, dst, 0);\n",
        "  imwrite(\"2_Transformacion_Espejo_Vertical.jpg\", dst);\n",
        "  return 0;\n",
        "}"
      ],
      "execution_count": 499,
      "outputs": [
        {
          "output_type": "stream",
          "text": [
            "Writing ejercicio2.cpp\n"
          ],
          "name": "stdout"
        }
      ]
    },
    {
      "cell_type": "code",
      "metadata": {
        "id": "Ndqaa29Ddx2D",
        "colab_type": "code",
        "colab": {}
      },
      "source": [
        "!g++ ejercicio2.cpp `pkg-config --cflags --libs opencv` -o filtrosOpenCV; ./filtrosOpenCV"
      ],
      "execution_count": 500,
      "outputs": []
    },
    {
      "cell_type": "markdown",
      "metadata": {
        "id": "QaXiLH3JdHdS",
        "colab_type": "text"
      },
      "source": [
        "## **EJERCICIO 3: Rotar y escalar una imagen indicando ángulo y escala.**"
      ]
    },
    {
      "cell_type": "code",
      "metadata": {
        "id": "WZpn_H33Fpzz",
        "colab_type": "code",
        "colab": {
          "base_uri": "https://localhost:8080/",
          "height": 35
        },
        "outputId": "a5b65cad-aa14-4e1a-b5a7-820a4ec9f8ed"
      },
      "source": [
        "%%writefile ejercicio3.cpp\n",
        "#include <opencv2/opencv.hpp>\n",
        "#include <bits/stdc++.h>\n",
        "\n",
        "using namespace cv;\n",
        "using namespace std;\n",
        "\n",
        "void Rotate(Mat imagen, Mat &salida, double angulo, double escala = 1){\n",
        "\tdouble w= imagen.size().width, h= imagen.size().height;\n",
        "\tdouble sa= sin(angulo*M_PI/180), ca= cos(angulo*M_PI/180);\n",
        "\tdouble cx= -w/2*ca-h/2*sa, cy= w/2*sa-h/2*ca;\n",
        "\tsa= fabs(sa);\n",
        "\tca= fabs(ca);\n",
        "\tSize tam((w*ca+h*sa)*escala, (h*ca+w*sa)*escala);\n",
        "\tMat M= getRotationMatrix2D(Point2f(0,0), angulo, escala);\n",
        "\tM.at<double>(0,2)= tam.width/2+cx*escala;\n",
        "\tM.at<double>(1,2)= tam.height/2+cy*escala;\n",
        "\twarpAffine(imagen, salida, M, tam);\n",
        "}\n",
        "\n",
        "int main(){\n",
        "\tMat image = imread(\"imagen1.jpg\");\n",
        "\tif ( !image.data){\n",
        "        return -1;\n",
        "    }\n",
        "    Mat destination;\n",
        "    Rotate(image, destination, 25);\n",
        "    imwrite(\"3_Transformacion_RotarEscalar_25.jpg\", destination);\n",
        "    Rotate(image, destination, 50);\n",
        "    imwrite(\"3_Transformacion_RotarEscalar_50.jpg\", destination);\n",
        "    Rotate(image, destination, 75);\n",
        "    imwrite(\"3_Transformacion_RotarEscalar_75.jpg\", destination);\n",
        "    Rotate(image, destination, 100);\n",
        "    imwrite(\"3_Transformacion_RotarEscalar_100.jpg\", destination);\n",
        "    Rotate(image, destination, 125);\n",
        "    imwrite(\"3_Transformacion_RotarEscalar_125.jpg\", destination);\n",
        "    Rotate(image, destination, 150);\n",
        "    imwrite(\"3_Transformacion_RotarEscalar_150.jpg\", destination);\n",
        "  return 0;\n",
        "}\n"
      ],
      "execution_count": 501,
      "outputs": [
        {
          "output_type": "stream",
          "text": [
            "Writing ejercicio3.cpp\n"
          ],
          "name": "stdout"
        }
      ]
    },
    {
      "cell_type": "code",
      "metadata": {
        "id": "7TiHn9_NGGD9",
        "colab_type": "code",
        "colab": {}
      },
      "source": [
        "!g++ ejercicio3.cpp `pkg-config --cflags --libs opencv` -o filtrosOpenCV; ./filtrosOpenCV"
      ],
      "execution_count": 502,
      "outputs": []
    },
    {
      "cell_type": "markdown",
      "metadata": {
        "id": "I1nzBmoXdH0T",
        "colab_type": "text"
      },
      "source": [
        "\n",
        "## **EJERCICIO 4: Inclinar (shear) la imagen img en X en angulo grados y desplazar en X para que se quede centrada.**"
      ]
    },
    {
      "cell_type": "code",
      "metadata": {
        "id": "_No95yuddrja",
        "colab_type": "code",
        "colab": {
          "base_uri": "https://localhost:8080/",
          "height": 35
        },
        "outputId": "3a33e2c2-31a1-48c0-9ce9-9e16a227dc97"
      },
      "source": [
        "%%writefile ejercicio4.cpp\n",
        "#include <opencv2/opencv.hpp>\n",
        "#include <bits/stdc++.h>\n",
        "#include <stdio.h>\n",
        "using namespace cv;\n",
        "using namespace std;\n",
        "\n",
        "int main(){\n",
        "  Mat img=imread(\"imagen1.jpg\");\n",
        "  if ( !img.data){\n",
        "        return -1;\n",
        "    }\n",
        "  double inc= tan(100*M_PI/180.0);\n",
        "\tMat c= (Mat_<double>(2, 3) << 1,  inc, -inc*img.size().height/2.0, 0, 1, 0 );\n",
        "\twarpAffine(img, img, c, img.size());\n",
        "  imwrite(\"4_Transformacion_Inclinar_100.jpg\", img);\n",
        "  return 0;\n",
        "}"
      ],
      "execution_count": 503,
      "outputs": [
        {
          "output_type": "stream",
          "text": [
            "Writing ejercicio4.cpp\n"
          ],
          "name": "stdout"
        }
      ]
    },
    {
      "cell_type": "code",
      "metadata": {
        "id": "78lOZ8IodzHL",
        "colab_type": "code",
        "colab": {}
      },
      "source": [
        "!g++ ejercicio4.cpp `pkg-config --cflags --libs opencv` -o filtrosOpenCV; ./filtrosOpenCV"
      ],
      "execution_count": 504,
      "outputs": []
    },
    {
      "cell_type": "markdown",
      "metadata": {
        "id": "tcyph6yQdIGa",
        "colab_type": "text"
      },
      "source": [
        "## **EJERCICIO 5: Aplicar una transformación afín a una imagen img, suponiendo que tenemos 3 puntos en img y los 3 puntos correspondientes en destino.** "
      ]
    },
    {
      "cell_type": "code",
      "metadata": {
        "id": "t33kBFp9dsCy",
        "colab_type": "code",
        "colab": {
          "base_uri": "https://localhost:8080/",
          "height": 35
        },
        "outputId": "1a97495f-a937-451b-b3a0-e891acecd694"
      },
      "source": [
        "%%writefile ejercicio5.cpp\n",
        "#include <opencv2/opencv.hpp>\n",
        "#include <bits/stdc++.h>\n",
        "using namespace cv;\n",
        "using namespace std;\n",
        "\n",
        "int main(){\n",
        "  Mat img=imread(\"imagen1.jpg\");\n",
        "  if ( !img.data){\n",
        "        return -1;\n",
        "  }\n",
        "  Mat pt1(1, 3, CV_32FC2); // Puntos en el origen\n",
        "  pt1.at<Vec2f>(0,0)= Vec2f(0, 0); // Rellenar los tres puntos\n",
        "  pt1.at<Vec2f>(0,1)= Vec2f(100, 0);\n",
        "  pt1.at<Vec2f>(0,2)= Vec2f(100, 100);\n",
        "  Mat pt2(1, 3, CV_32FC2); // Puntos en el destino\n",
        "  pt2.at<Vec2f>(0,0)= Vec2f(10, 20); // Rellenar los tres puntos\n",
        "  pt2.at<Vec2f>(0,1)= Vec2f(80, 40);\n",
        "  pt2.at<Vec2f>(0,2)= Vec2f(20, 70);\n",
        "  Mat c= getAffineTransform(pt1, pt2);\n",
        "  warpAffine(img, img, c, img.size());\n",
        "\n",
        "  imwrite(\"5_Transformacion_Afin.jpg\", img);\n",
        "  return 0;\n",
        "}"
      ],
      "execution_count": 505,
      "outputs": [
        {
          "output_type": "stream",
          "text": [
            "Writing ejercicio5.cpp\n"
          ],
          "name": "stdout"
        }
      ]
    },
    {
      "cell_type": "code",
      "metadata": {
        "id": "CjbzXqpndzqz",
        "colab_type": "code",
        "colab": {}
      },
      "source": [
        "!g++ ejercicio5.cpp `pkg-config --cflags --libs opencv` -o filtrosOpenCV; ./filtrosOpenCV"
      ],
      "execution_count": 506,
      "outputs": []
    }
  ]
}