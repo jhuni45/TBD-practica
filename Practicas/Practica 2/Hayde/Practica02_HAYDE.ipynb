{
  "nbformat": 4,
  "nbformat_minor": 0,
  "metadata": {
    "colab": {
      "name": "Practica02_HAYDE.ipynb",
      "provenance": [],
      "collapsed_sections": []
    },
    "kernelspec": {
      "name": "python3",
      "display_name": "Python 3"
    },
    "accelerator": "TPU"
  },
  "cells": [
    {
      "cell_type": "markdown",
      "metadata": {
        "id": "lK7_65ioOzv2",
        "colab_type": "text"
      },
      "source": [
        "# ***PRACTICA 02: FILTROS EN OpenCV*** \n",
        "### HAYDE LUZMILA HUMPIRE CUTIPA "
      ]
    },
    {
      "cell_type": "markdown",
      "metadata": {
        "id": "3aFlpTG8QdAX",
        "colab_type": "text"
      },
      "source": [
        "## **Filtros de Imágenes en OpenCV**\n",
        "\n",
        "Operaciones de procesamiento local:\n",
        "\n",
        "– **Filtros lineales** predefinidos de suavizado y detección de bordes.\n",
        "\n",
        "  + blur, GaussianBlur, Sobel, Scharr, Laplacian, Canny (este último es un filtro estándar, pero no se puede considerar como lineal).\n",
        "\n",
        "– **Filtros lineales arbitrarios**, definidos por el usuario en tiempo de ejecución.\n",
        "\n",
        "  + filter2D.\n",
        "\n",
        "– **Filtros de máximo, mínimo y mediana**. \n",
        "\n",
        "  + dilate (máximo), erode (mínimo), medianBlur (mediana).\n",
        "\n",
        "– **Operaciones de morfología** matemática.\n",
        "\n",
        "  + erode, dilate, morphologyEx.\n"
      ]
    },
    {
      "cell_type": "markdown",
      "metadata": {
        "id": "zPI_XFnj59LM",
        "colab_type": "text"
      },
      "source": [
        "## **REPLICA:**\n",
        "\n",
        "### 1.   **FILTROS LINEALES:**\n",
        "  1.   Filtro de Sobel\n",
        "  2.   Filtro de Laplace\n",
        "  3.   Filtro de Bordes de Canny\n",
        "\n",
        "### **2.   FILTROS LINEALES ARBITRARIOS:**\n",
        "  1.   Máscara de perfilado\n",
        "  2.   Máscara de derivada\n",
        "\n",
        "### **3.   FILTROS DE MAXIMO, MINIMO Y MEDIANA:**\n",
        "  1.   Operaciones de máximo local\n",
        "  2.   Operaciones de mínimo local\n",
        "\n",
        "### **4.   OPERACIONES DE MORFOLOGIA:**\n",
        "  1.   Filtro de erode\n",
        "  2.   Filtro de dilate\n",
        "  3.   Filtro de morphologyEx\n",
        "\n",
        "### **5.   EJEMPLOS:**\n",
        "  1.   Aplicar estiramiento\n",
        "  2.   Efecto de transición\n"
      ]
    },
    {
      "cell_type": "markdown",
      "metadata": {
        "id": "vuBTBlpuQ05w",
        "colab_type": "text"
      },
      "source": [
        "## 1.   **FILTROS LINEALES:**\n",
        "  1.   Filtro de Sobel\n",
        "  2.   Filtro de Laplace\n",
        "  3.   Filtro de *Bordes* de Canny"
      ]
    },
    {
      "cell_type": "markdown",
      "metadata": {
        "id": "m6ARDVGc9DAR",
        "colab_type": "text"
      },
      "source": [
        "**1.1 FILTRO DE SOBEL**"
      ]
    },
    {
      "cell_type": "code",
      "metadata": {
        "id": "QCsJlmMOQ6Pn",
        "colab_type": "code",
        "colab": {
          "base_uri": "https://localhost:8080/",
          "height": 34
        },
        "outputId": "336b7ffb-8a31-4ad8-a586-8cb581e9db96"
      },
      "source": [
        "%%writefile ejercicio_sobel.cpp\n",
        "#include <opencv2/opencv.hpp>\n",
        "#include <bits/stdc++.h>\n",
        "using namespace cv;\n",
        "using namespace std;\n",
        "\n",
        "int main(){\n",
        "    Mat img = imread(\"imagen1.jpg\");\n",
        "    Mat dx, dy, gradiente;\n",
        "    Sobel(img, dx, CV_32F, 1, 0, -1);\n",
        "    Sobel(img, dy, CV_32F, 0, 1, -1);\n",
        "    pow(dx, 2.0, dx);\n",
        "    pow(dy, 2.0, dy);\n",
        "    gradiente = dx+dy;\n",
        "    sqrt(gradiente, gradiente);\n",
        "    Mat imgrad;\n",
        "    gradiente.convertTo(imgrad, CV_8U);\n",
        "    \n",
        "    imwrite(\"1-1_Filtro_Sobel.jpg\", imgrad);\n",
        "    return 0;\n",
        "}"
      ],
      "execution_count": 62,
      "outputs": [
        {
          "output_type": "stream",
          "text": [
            "Overwriting ejercicio_sobel.cpp\n"
          ],
          "name": "stdout"
        }
      ]
    },
    {
      "cell_type": "code",
      "metadata": {
        "id": "dobsCbvDsKoJ",
        "colab_type": "code",
        "colab": {}
      },
      "source": [
        "!g++ ejercicio_sobel.cpp `pkg-config --cflags --libs opencv` -o filtros; ./filtros"
      ],
      "execution_count": 0,
      "outputs": []
    },
    {
      "cell_type": "markdown",
      "metadata": {
        "id": "N3x0lQnIQ903",
        "colab_type": "text"
      },
      "source": [
        "**1.2 FILTRO DE LAPLACE**\n"
      ]
    },
    {
      "cell_type": "code",
      "metadata": {
        "id": "2dH_v_01RDsQ",
        "colab_type": "code",
        "colab": {
          "base_uri": "https://localhost:8080/",
          "height": 34
        },
        "outputId": "7ccf9b78-4a97-4fac-9044-607603527054"
      },
      "source": [
        "%%writefile ejercicio_laplace.cpp\n",
        "#include <opencv2/opencv.hpp>\n",
        "#include <bits/stdc++.h>\n",
        "using namespace cv;\n",
        "using namespace std;\n",
        "\n",
        "int main(){\n",
        "    Mat img=imread(\"imagen1.jpg\");\n",
        "    Mat lap, suma;\n",
        "    Laplacian(img, lap, CV_16S);\n",
        "    img.convertTo(img, CV_16S);\n",
        "    suma = img - 0.4*lap;\n",
        "    suma.convertTo(img, CV_8U);\n",
        "\n",
        "    imwrite(\"1-2_Filtro_Laplace.jpg\", img);\n",
        "    return 0;\n",
        "}"
      ],
      "execution_count": 64,
      "outputs": [
        {
          "output_type": "stream",
          "text": [
            "Writing ejercicio_laplace.cpp\n"
          ],
          "name": "stdout"
        }
      ]
    },
    {
      "cell_type": "code",
      "metadata": {
        "id": "mEUNPe1vsjg0",
        "colab_type": "code",
        "colab": {}
      },
      "source": [
        "!g++ ejercicio_laplace.cpp `pkg-config --cflags --libs opencv` -o filtros; ./filtros"
      ],
      "execution_count": 0,
      "outputs": []
    },
    {
      "cell_type": "markdown",
      "metadata": {
        "id": "3XcO-bcGRD9_",
        "colab_type": "text"
      },
      "source": [
        "**1.3 FILTRO DE BORDES DE CANNY**\n"
      ]
    },
    {
      "cell_type": "code",
      "metadata": {
        "id": "EN1xAfOYRI93",
        "colab_type": "code",
        "colab": {
          "base_uri": "https://localhost:8080/",
          "height": 34
        },
        "outputId": "e3bdad8d-f55e-49ab-8e75-fb5819138bda"
      },
      "source": [
        "%%writefile ejercicio_canny.cpp\n",
        "#include <opencv2/opencv.hpp>\n",
        "#include <bits/stdc++.h>\n",
        "\n",
        "using namespace cv;\n",
        "using namespace std;\n",
        "\n",
        "int main(){\n",
        "    \n",
        "    Mat img=imread(\"imagen1.jpg\");\n",
        "\n",
        "    Mat gris, bordes;\n",
        "    cvtColor(img, gris, CV_BGR2GRAY);\n",
        "    Canny(gris, bordes, 100, 60);\n",
        "\n",
        "    imwrite(\"1-3_Filtro_Canny.jpg\", bordes);\n",
        "\n",
        "    return 0;\n",
        "}"
      ],
      "execution_count": 66,
      "outputs": [
        {
          "output_type": "stream",
          "text": [
            "Writing ejercicio_canny.cpp\n"
          ],
          "name": "stdout"
        }
      ]
    },
    {
      "cell_type": "code",
      "metadata": {
        "id": "0gJy_A7Ctd5N",
        "colab_type": "code",
        "colab": {}
      },
      "source": [
        "!g++ ejercicio_canny.cpp `pkg-config --cflags --libs opencv` -o filtros; ./filtros;"
      ],
      "execution_count": 0,
      "outputs": []
    },
    {
      "cell_type": "markdown",
      "metadata": {
        "id": "j7ISBDhlRJkn",
        "colab_type": "text"
      },
      "source": [
        "\n",
        "## **2.   FILTROS LINEALES ARBITRARIOS:**\n",
        "  1.   Máscara de perfilado\n",
        "  2.   Máscara de derivada\n"
      ]
    },
    {
      "cell_type": "markdown",
      "metadata": {
        "id": "ZpISS2Ms9ewh",
        "colab_type": "text"
      },
      "source": [
        "**2.1 MÁSCARA DE PERFILADO**"
      ]
    },
    {
      "cell_type": "code",
      "metadata": {
        "id": "Cj65QH1Z4fcd",
        "colab_type": "code",
        "colab": {
          "base_uri": "https://localhost:8080/",
          "height": 34
        },
        "outputId": "bb0585a3-6b2f-42c3-e28b-1296b14f3737"
      },
      "source": [
        "%%writefile ejercicio_mascara_perfilado.cpp\n",
        "#include <opencv2/opencv.hpp>\n",
        "#include <bits/stdc++.h>\n",
        "using namespace cv;\n",
        "using namespace std;\n",
        "\n",
        "int main(){\n",
        "    Mat img = imread(\"imagen1.jpg\");\n",
        "    Mat salida1, salida2;\n",
        "    Mat kernelPerfilado = (Mat_<float>(3,3) <<-1,-1,-1, -1, 9,-1, -1,-1,-1);\n",
        "    filter2D(img, salida1, CV_8U, kernelPerfilado);\n",
        "    imwrite(\"2-1_Filtro_Mascara_Perfilado.jpg\", salida1);\n",
        "    return 0;\n",
        "}"
      ],
      "execution_count": 94,
      "outputs": [
        {
          "output_type": "stream",
          "text": [
            "Writing ejercicio_mascara_perfilado.cpp\n"
          ],
          "name": "stdout"
        }
      ]
    },
    {
      "cell_type": "code",
      "metadata": {
        "id": "_rqoq7LN4ffb",
        "colab_type": "code",
        "colab": {}
      },
      "source": [
        "!g++ ejercicio_mascara_perfilado.cpp `pkg-config --cflags --libs opencv` -o filtros; ./filtros;"
      ],
      "execution_count": 0,
      "outputs": []
    },
    {
      "cell_type": "markdown",
      "metadata": {
        "id": "BcptZ_F04Igf",
        "colab_type": "text"
      },
      "source": [
        "**2.2 MÁSCARA DE DERIVADA**"
      ]
    },
    {
      "cell_type": "code",
      "metadata": {
        "id": "skL2zzBXRNEI",
        "colab_type": "code",
        "colab": {
          "base_uri": "https://localhost:8080/",
          "height": 34
        },
        "outputId": "80206a99-b940-4344-c750-61451b45a044"
      },
      "source": [
        "%%writefile ejercicio_mascara_derivada.cpp\n",
        "#include <opencv2/opencv.hpp>\n",
        "#include <bits/stdc++.h>\n",
        "using namespace cv;\n",
        "using namespace std;\n",
        "\n",
        "int main(){\n",
        "    Mat img = imread(\"imagen1.jpg\");\n",
        "    Mat salida1, salida2;\n",
        "    Mat kernelDerivada = (Mat_<float>(3,3) <<-2,-1,0, -1, 0,1, 0,1,2);\n",
        "    filter2D(img, salida2, CV_8U, kernelDerivada, Point(-1,-1), 128);\n",
        "    imwrite(\"2-1_Filtro_Mascara_Derivada.jpg\", salida2);\n",
        "    return 0;\n",
        "}"
      ],
      "execution_count": 93,
      "outputs": [
        {
          "output_type": "stream",
          "text": [
            "Writing ejercicio_mascara_derivada.cpp\n"
          ],
          "name": "stdout"
        }
      ]
    },
    {
      "cell_type": "code",
      "metadata": {
        "id": "2bNE0A_hueBf",
        "colab_type": "code",
        "colab": {}
      },
      "source": [
        "!g++ ejercicio_mascara_derivada.cpp `pkg-config --cflags --libs opencv` -o filtros; ./filtros;"
      ],
      "execution_count": 0,
      "outputs": []
    },
    {
      "cell_type": "markdown",
      "metadata": {
        "id": "1GHbkUBeArwQ",
        "colab_type": "text"
      },
      "source": [
        "## **3.   FILTROS DE MAXIMO, MINIMO Y MEDIANA:**\n",
        "  1.   Operaciones de máximo local\n",
        "  2.   Operaciones de mínimo local\n",
        "\n",
        "\n",
        "- Filtros no lineales de máximo, mínimo: **no existen en OpenCV**, sino que deben hacerse utilizando las operaciones morfológicas\n",
        "**dilate (máximo)** y **erode (máximo)**.\n",
        "- Ambas operaciones reciben como parámetro un elemento estructurante, que es una matriz de tipo Mat.\n",
        "- Implementación de las operaciones de máximo y mínimo local:"
      ]
    },
    {
      "cell_type": "markdown",
      "metadata": {
        "id": "YSM_2gnMAr8p",
        "colab_type": "text"
      },
      "source": [
        "**3.1 OPERACIONES DE MÁXIMO Y MÍNIMO LOCAL.**"
      ]
    },
    {
      "cell_type": "code",
      "metadata": {
        "id": "MGTUOy8LAsOm",
        "colab_type": "code",
        "colab": {
          "base_uri": "https://localhost:8080/",
          "height": 34
        },
        "outputId": "5ecd66f1-8783-462e-a7fe-f115925837f9"
      },
      "source": [
        "%%writefile ejercicio_estiramiento_histograma.cpp\n",
        "#include <opencv2/opencv.hpp>\n",
        "#include <bits/stdc++.h>\n",
        "using namespace cv;\n",
        "using namespace std;\n",
        "\n",
        "void MinLocal (Mat entrada, Mat &salida, int ancho, int alto){\n",
        "    erode(entrada, salida, Mat::ones(alto, ancho, CV_8U), Point(-1,-1), 1, BORDER_REPLICATE);\n",
        "}\n",
        "void MaxLocal (Mat entrada, Mat &salida, int ancho, int alto){\n",
        "    dilate(entrada, salida, Mat::ones(alto, ancho, CV_8U), Point(-1,-1), 1, BORDER_REPLICATE);\n",
        "}\n",
        "\n",
        "int main(){\n",
        "    Mat img = imread(\"imagen1.jpg\");\n",
        "    Mat mini, maxi, res;\n",
        "    int tam= 2*10+1; // tamaño de vecindad local\n",
        "    MinLocal(img, mini, tam, tam);\n",
        "    MaxLocal(img, maxi, tam, tam);\n",
        "    res= img-mini;\n",
        "    maxi= maxi-mini;    \n",
        "    divide(res, maxi, res, 255.0);   \n",
        "    imwrite(\"3-1_Filtro_MaxMin_Estiramiento.jpg\", res);\n",
        "    return 0;\n",
        "}"
      ],
      "execution_count": 75,
      "outputs": [
        {
          "output_type": "stream",
          "text": [
            "Writing ejercicio_estiramiento_histograma.cpp\n"
          ],
          "name": "stdout"
        }
      ]
    },
    {
      "cell_type": "code",
      "metadata": {
        "id": "1HeXZ7TbAspB",
        "colab_type": "code",
        "colab": {}
      },
      "source": [
        "!g++ ejercicio_estiramiento_histograma.cpp `pkg-config --cflags --libs opencv` -o filtros; ./filtros;"
      ],
      "execution_count": 0,
      "outputs": []
    },
    {
      "cell_type": "markdown",
      "metadata": {
        "id": "HNwZGoe8-Mnt",
        "colab_type": "text"
      },
      "source": [
        "## **4.   OPERACIONES DE MORFOLOGIA:**\n",
        "  1.   Filtro de erode\n",
        "  2.   Filtro de dilate\n",
        "  3.   Filtro de morphologyEx"
      ]
    },
    {
      "cell_type": "markdown",
      "metadata": {
        "id": "Mjo7mH882oCY",
        "colab_type": "text"
      },
      "source": [
        "**4.1 FILTRO DE ERODE**"
      ]
    },
    {
      "cell_type": "code",
      "metadata": {
        "id": "T6cW3LM822k2",
        "colab_type": "code",
        "colab": {
          "base_uri": "https://localhost:8080/",
          "height": 34
        },
        "outputId": "4dcd69f7-7a37-468a-a309-dbd084e9eb08"
      },
      "source": [
        "%%writefile ejercicio_erode.cpp\n",
        "#include <opencv2/opencv.hpp>\n",
        "#include <bits/stdc++.h>\n",
        "using namespace cv;\n",
        "using namespace std;\n",
        "\n",
        "int main(){\n",
        "    Mat img = imread(\"imagen1.jpg\");\n",
        "    Mat salida2;\n",
        "    erode(img, salida2, Mat()); \n",
        "    dilate(salida2, salida2, Mat());\n",
        "    imwrite(\"4-1_Filtro_Erode.jpg\", salida2);\n",
        "    return 0;\n",
        "}"
      ],
      "execution_count": 80,
      "outputs": [
        {
          "output_type": "stream",
          "text": [
            "Writing ejercicio_erode.cpp\n"
          ],
          "name": "stdout"
        }
      ]
    },
    {
      "cell_type": "code",
      "metadata": {
        "id": "uX-tTIbO2-R6",
        "colab_type": "code",
        "colab": {}
      },
      "source": [
        "!g++ ejercicio_erode.cpp `pkg-config --cflags --libs opencv` -o filtros; ./filtros;"
      ],
      "execution_count": 0,
      "outputs": []
    },
    {
      "cell_type": "markdown",
      "metadata": {
        "id": "rCGB7oXb944w",
        "colab_type": "text"
      },
      "source": [
        "**4.2 FILTRO DE DILATE**"
      ]
    },
    {
      "cell_type": "code",
      "metadata": {
        "id": "pFLRigGp1UEF",
        "colab_type": "code",
        "colab": {
          "base_uri": "https://localhost:8080/",
          "height": 34
        },
        "outputId": "b0ff9db6-18ee-46af-bd9a-e4a3f7eab993"
      },
      "source": [
        "%%writefile ejercicio_dilate.cpp\n",
        "#include <opencv2/opencv.hpp>\n",
        "#include <bits/stdc++.h>\n",
        "using namespace cv;\n",
        "using namespace std;\n",
        "\n",
        "int main(){\n",
        "    Mat img = imread(\"imagen1.jpg\");\n",
        "    Mat salida1;\n",
        "    dilate(img, salida1, Mat::eye(5,5,CV_8U));\n",
        "  \n",
        "    imwrite(\"4-2_Filtro_Dilate.jpg\", salida1);\n",
        "    return 0;\n",
        "}"
      ],
      "execution_count": 81,
      "outputs": [
        {
          "output_type": "stream",
          "text": [
            "Writing ejercicio_dilate.cpp\n"
          ],
          "name": "stdout"
        }
      ]
    },
    {
      "cell_type": "code",
      "metadata": {
        "id": "JXUbizUS1iDn",
        "colab_type": "code",
        "colab": {}
      },
      "source": [
        "!g++ ejercicio_dilate.cpp `pkg-config --cflags --libs opencv` -o filtros; ./filtros;"
      ],
      "execution_count": 0,
      "outputs": []
    },
    {
      "cell_type": "markdown",
      "metadata": {
        "id": "ygftPTAP0hVc",
        "colab_type": "text"
      },
      "source": [
        "**4.3 FILTRO DE MORPHOLOGYEX**"
      ]
    },
    {
      "cell_type": "code",
      "metadata": {
        "id": "ROn5nTEaukbn",
        "colab_type": "code",
        "colab": {
          "base_uri": "https://localhost:8080/",
          "height": 34
        },
        "outputId": "3021046c-a034-4600-d9d7-6cc75e1c67d5"
      },
      "source": [
        "%%writefile ejercicio_morfologica.cpp\n",
        "#include <opencv2/opencv.hpp>\n",
        "#include <bits/stdc++.h>\n",
        "using namespace cv;\n",
        "using namespace std;\n",
        "\n",
        "int main(){\n",
        "    Mat img = imread(\"imagen1.jpg\");\n",
        "    Mat salida3;\n",
        "    morphologyEx(img, salida3, MORPH_OPEN, Mat());   \n",
        "    \n",
        "    imwrite(\"4-3_Filtro_Morfologica.jpg\", salida3);\n",
        "    return 0;\n",
        "}"
      ],
      "execution_count": 83,
      "outputs": [
        {
          "output_type": "stream",
          "text": [
            "Writing ejercicio_morfologica.cpp\n"
          ],
          "name": "stdout"
        }
      ]
    },
    {
      "cell_type": "code",
      "metadata": {
        "id": "5_YotHybuky_",
        "colab_type": "code",
        "colab": {}
      },
      "source": [
        "!g++ ejercicio_morfologica.cpp `pkg-config --cflags --libs opencv` -o filtros; ./filtros;"
      ],
      "execution_count": 0,
      "outputs": []
    },
    {
      "cell_type": "markdown",
      "metadata": {
        "id": "TqyYqsA6RNN_",
        "colab_type": "text"
      },
      "source": [
        "## **5.   EJEMPLOS:**\n",
        "  1.   Aplicar estiramiento\n",
        "  2.   Efecto de transición"
      ]
    },
    {
      "cell_type": "markdown",
      "metadata": {
        "id": "L2Jz19C0vMnn",
        "colab_type": "text"
      },
      "source": [
        "**5.1 APLICAR UN AJUSTE O ESTIRAMIENTO LOCAL DEL HISTOGRAMA A UNA IMAGEN.**\n"
      ]
    },
    {
      "cell_type": "code",
      "metadata": {
        "id": "kp_Eh2vZRPSX",
        "colab_type": "code",
        "colab": {
          "base_uri": "https://localhost:8080/",
          "height": 34
        },
        "outputId": "4758ed14-28a8-4f1e-dabb-a2c346cd7ce7"
      },
      "source": [
        "%%writefile ejercicio_estiramiento_local_histograma.cpp\n",
        "#include <opencv2/opencv.hpp>\n",
        "#include <bits/stdc++.h>\n",
        "using namespace cv;\n",
        "using namespace std;\n",
        "\n",
        "void MinLocal (Mat entrada, Mat &salida, int ancho, int alto)\n",
        "{\n",
        "    erode(entrada, salida, Mat::ones(alto, ancho, CV_8U), Point(-1,-1), 1, BORDER_REPLICATE);\n",
        "}\n",
        "void MaxLocal (Mat entrada, Mat &salida, int ancho, int alto)\n",
        "{\n",
        "    dilate(entrada, salida, Mat::ones(alto, ancho, CV_8U), Point(-1,-1), 1, BORDER_REPLICATE);\n",
        "}\n",
        "\n",
        "int main(){\n",
        "    Mat img = imread(\"imagen1.jpg\");\n",
        "    Mat mini, maxi, res;\n",
        "    int tam= 2*10+1; // tamaño de vecindad local\n",
        "    MinLocal(img, mini, tam, tam);\n",
        "    MaxLocal(img, maxi, tam, tam);\n",
        "    res= img-mini;\n",
        "    maxi= maxi-mini;    \n",
        "    divide(res, maxi, res, 255.0);   \n",
        "    imwrite(\"5-1_Filtro_Estiramiento_Local_Histograma.jpg\", res);\n",
        "    return 0;\n",
        "}"
      ],
      "execution_count": 85,
      "outputs": [
        {
          "output_type": "stream",
          "text": [
            "Writing ejercicio_estiramiento_local_histograma.cpp\n"
          ],
          "name": "stdout"
        }
      ]
    },
    {
      "cell_type": "code",
      "metadata": {
        "id": "5mQYgt6_uqm1",
        "colab_type": "code",
        "colab": {}
      },
      "source": [
        "!g++ ejercicio_estiramiento_local_histograma.cpp `pkg-config --cflags --libs opencv` -o filtros; ./filtros;"
      ],
      "execution_count": 0,
      "outputs": []
    },
    {
      "cell_type": "markdown",
      "metadata": {
        "id": "mLPAdM8hvb7z",
        "colab_type": "text"
      },
      "source": [
        "**5.2 EFECTOR DE TRANSICIÓN ENTRE DOS IMAGENES (MISMO TAMAÑO), A TRAVEZ DE UN SUAVIZADO INTERMEDIO.**"
      ]
    },
    {
      "cell_type": "code",
      "metadata": {
        "id": "2jCK8k6Puw9k",
        "colab_type": "code",
        "colab": {
          "base_uri": "https://localhost:8080/",
          "height": 34
        },
        "outputId": "434f0c6b-4bbe-4712-eee8-e792bb7cbd70"
      },
      "source": [
        "%%writefile ejercicio_transicion_dosimagenes.cpp\n",
        "#include <opencv2/opencv.hpp>\n",
        "#include <bits/stdc++.h>\n",
        "using namespace cv;\n",
        "using namespace std;\n",
        "\n",
        "int main(){\n",
        "    Mat img1 = imread(\"imagen1.jpg\");\n",
        "    Mat img2 = imread(\"imagen2.jpg\");  \n",
        "\n",
        "    if (img1.empty() || img2.empty()) return 0;\n",
        "    Mat int1, int2, res;\n",
        "\n",
        "    for (int i= 0; i<100; i+=20) {\n",
        "      blur(img1, int1, Size(i*4+1, 1));\n",
        "      blur(img2, int2, Size((99-i)*4+1, 1));\n",
        "      addWeighted(int1, 1-i/100.0, int2, i/100.0, 0, res);\n",
        "      imwrite(\"5-2_Filtro_Transicion_Dos_Imagenes\"+to_string(i)+\".jpg\", res);\n",
        "    }\n",
        "    return 0;\n",
        "}"
      ],
      "execution_count": 90,
      "outputs": [
        {
          "output_type": "stream",
          "text": [
            "Overwriting ejercicio_transicion_dosimagenes.cpp\n"
          ],
          "name": "stdout"
        }
      ]
    },
    {
      "cell_type": "code",
      "metadata": {
        "id": "WAeTeYVNuxBC",
        "colab_type": "code",
        "colab": {}
      },
      "source": [
        "!g++ ejercicio_transicion_dosimagenes.cpp `pkg-config --cflags --libs opencv` -o filtros; ./filtros;"
      ],
      "execution_count": 0,
      "outputs": []
    }
  ]
}