{
  "nbformat": 4,
  "nbformat_minor": 0,
  "metadata": {
    "colab": {
      "name": "Practica04_Hayde.ipynb",
      "provenance": [],
      "toc_visible": true
    },
    "kernelspec": {
      "name": "python3",
      "display_name": "Python 3"
    }
  },
  "cells": [
    {
      "cell_type": "markdown",
      "metadata": {
        "id": "RujXA268RkHd",
        "colab_type": "text"
      },
      "source": [
        "# ***PRACTICA 04: Transformaciones de Perspectiva y Mapeo en OpenCV*** \n",
        "### HAYDE LUZMILA HUMPIRE CUTIPA \n",
        "\n",
        "Fecha: 24/06/2020\n",
        "\n",
        "Hora: 22:15 horas"
      ]
    },
    {
      "cell_type": "markdown",
      "metadata": {
        "id": "WsmNQPbgR1GF",
        "colab_type": "text"
      },
      "source": [
        "### **Transformaciones de Perspectiva y Mapeo en OpenCV:**\n",
        "1.   Ejercicio_1: Transformacion perspectiva: Transformación perspectiva de una imagen, img, para producir un efecto similar al de la figura.\n",
        "2.   Ejercicio_2: Transformacion aleatoria de deformacion: Transformación aleatoria de una imagen img, con un radio de deformación de m.\n",
        "3.   Ejercicio_3: Transformacion de acristalado: En el código anterior, sustituir las líneas comentadas poy mapa1 y mapa2."
      ]
    },
    {
      "cell_type": "markdown",
      "metadata": {
        "id": "TtJvQs_6SQGU",
        "colab_type": "text"
      },
      "source": [
        "## **EJERCICIO 1: Transformacion perspectiva: Transformación perspectiva de una imagen, img, para producir un efecto similar al de la figura.**"
      ]
    },
    {
      "cell_type": "code",
      "metadata": {
        "id": "JI9Dd79sSZq0",
        "colab_type": "code",
        "colab": {
          "base_uri": "https://localhost:8080/",
          "height": 35
        },
        "outputId": "eb58b110-cbd2-404d-d5de-dda7f95edbbf"
      },
      "source": [
        "%%writefile ejercicio1.cpp\n",
        "#include <opencv2/opencv.hpp>\n",
        "#include <bits/stdc++.h>\n",
        "using namespace cv;\n",
        "using namespace std;\n",
        "\n",
        "int main(){\n",
        "    Mat img = imread(\"imagen2.jpg\");\n",
        "    double w= img.size().width, h= img.size().height;\n",
        "    Mat pt1(1, 4, CV_32FC2);                  // Cuatro puntos en el origen\n",
        "    pt1.at<Vec2f>(0,0)= Vec2f(0, 0);\n",
        "    pt1.at<Vec2f>(0,1)= Vec2f(w, 0);\n",
        "    pt1.at<Vec2f>(0,2)= Vec2f(w, h);\n",
        "    pt1.at<Vec2f>(0,3)= Vec2f(0, h);\n",
        "    Mat pt2(1, 4, CV_32FC2);                  // Cuatro puntos en el destino\n",
        "    pt2.at<Vec2f>(0,0)= Vec2f(w*0.3, 0);\n",
        "    pt2.at<Vec2f>(0,1)= Vec2f(w*0.7, 0);\n",
        "    pt2.at<Vec2f>(0,2)= Vec2f(w, h);\n",
        "    pt2.at<Vec2f>(0,3)= Vec2f(0, h);\n",
        "    Mat c= getPerspectiveTransform(pt1, pt2);\n",
        "    Mat resultado;\n",
        "    warpPerspective(img, resultado, c, img.size());\n",
        "    imwrite( \"1_Transformacion_Perspectiva_Prueba2.jpg\", resultado );\n",
        "    cout<< \" Transformación Generada ... \\n \";\n",
        "    return 0;\n",
        "}"
      ],
      "execution_count": 143,
      "outputs": [
        {
          "output_type": "stream",
          "text": [
            "Writing ejercicio1.cpp\n"
          ],
          "name": "stdout"
        }
      ]
    },
    {
      "cell_type": "code",
      "metadata": {
        "id": "6-Xskif1Tc5t",
        "colab_type": "code",
        "colab": {
          "base_uri": "https://localhost:8080/",
          "height": 52
        },
        "outputId": "dfdd4aff-9e6c-4226-8710-0ba9df76b785"
      },
      "source": [
        "!g++ ejercicio1.cpp `pkg-config --cflags --libs opencv` -o filtrosOpenCV; ./filtrosOpenCV"
      ],
      "execution_count": 142,
      "outputs": [
        {
          "output_type": "stream",
          "text": [
            " Transformación Generada ... \n",
            " "
          ],
          "name": "stdout"
        }
      ]
    },
    {
      "cell_type": "markdown",
      "metadata": {
        "id": "kzbUt5zUSL4j",
        "colab_type": "text"
      },
      "source": [
        "## **EJERCICIO 2: Transformacion aleatoria de deformacion: Transformación aleatoria de una imagen img, con un radio de deformación de m.**"
      ]
    },
    {
      "cell_type": "code",
      "metadata": {
        "id": "wxVIK_esSanF",
        "colab_type": "code",
        "colab": {
          "base_uri": "https://localhost:8080/",
          "height": 35
        },
        "outputId": "1e2fb742-46fb-4647-dec4-67f7e7e22e76"
      },
      "source": [
        "%%writefile ejercicio2.cpp\n",
        "#include <opencv2/opencv.hpp>\n",
        "#include <bits/stdc++.h>\n",
        "using namespace cv;\n",
        "using namespace std;\n",
        "\n",
        "int main(){\n",
        "    int m=5;\n",
        "    Mat img = imread(\"imagen2.jpg\");\n",
        "    Mat mapa1(img.size(), CV_32FC1);\n",
        "    Mat mapa2(img.size(), CV_32FC1);\n",
        "    for (int y= 0; \n",
        "         y<img.size().height; y++)\n",
        "    for (int x= 0; x<img.size().width; x++) {\n",
        "        mapa1.at<float>(y, x)= x+rand()%(2*m+1) - m;     // Mapa 1\n",
        "        mapa2.at<float>(y, x)= y+rand()%(2*m+1) - m;     // Mapa 2\n",
        "    }\n",
        "    Mat resultado;\n",
        "    remap (img, resultado, mapa1, mapa2, INTER_NEAREST);\n",
        "    imwrite ( \"2_Transformacion_Aleatoria_Deformacion_Prueba2_2.jpg\", resultado);\n",
        "    cout<< \" Transformación Generada ... \\n \";\n",
        "    return 0;\n",
        "}"
      ],
      "execution_count": 144,
      "outputs": [
        {
          "output_type": "stream",
          "text": [
            "Writing ejercicio2.cpp\n"
          ],
          "name": "stdout"
        }
      ]
    },
    {
      "cell_type": "code",
      "metadata": {
        "id": "uEZ9TjutSarb",
        "colab_type": "code",
        "colab": {
          "base_uri": "https://localhost:8080/",
          "height": 52
        },
        "outputId": "6fa262b1-8ee9-4a12-997f-8494c4328863"
      },
      "source": [
        "!g++ ejercicio2.cpp `pkg-config --cflags --libs opencv` -o filtrosOpenCV; ./filtrosOpenCV"
      ],
      "execution_count": 111,
      "outputs": [
        {
          "output_type": "stream",
          "text": [
            " Transformación Generada ... \n",
            " "
          ],
          "name": "stdout"
        }
      ]
    },
    {
      "cell_type": "markdown",
      "metadata": {
        "id": "Ym9TKbJrSMHr",
        "colab_type": "text"
      },
      "source": [
        "## **EJERCICIO 3: Transformacion de acristalado: En el código anterior, sustituir las líneas comentadas poy mapa1 y mapa2.**"
      ]
    },
    {
      "cell_type": "code",
      "metadata": {
        "id": "gFvFf8bPSbNE",
        "colab_type": "code",
        "colab": {
          "base_uri": "https://localhost:8080/",
          "height": 35
        },
        "outputId": "0e94a8d3-8676-433a-a0af-2d079fa5a841"
      },
      "source": [
        "%%writefile ejercicio3.cpp\n",
        "#include <opencv2/opencv.hpp>\n",
        "#include <bits/stdc++.h>\n",
        "using namespace cv;\n",
        "using namespace std;\n",
        "\n",
        "int main(){\n",
        "    int m=90;\n",
        "    Mat img = imread(\"imagen2.jpg\");\n",
        "    Mat mapa1(img.size(), CV_32FC1);\n",
        "    Mat mapa2(img.size(), CV_32FC1);\n",
        "    for (int y= 0; \n",
        "         y<img.size().height; y++)\n",
        "    for (int x= 0; x<img.size().width; x++) {\n",
        "        mapa1.at<float>(y, x)= x - x%m + y%m;      // Mapa 1\n",
        "        mapa2.at<float>(y, x)= y - y%m + x%m;      // Mapa 2  \n",
        "    }\n",
        "    Mat resultado;\n",
        "    remap (img, resultado, mapa1, mapa2, INTER_NEAREST);\n",
        "    imwrite ( \"3_Transformacion_Acristalado_Prueba2_90.jpg\", resultado);\n",
        "    cout<< \" Transformación Generada ... \\n \";\n",
        "    return 0;\n",
        "}"
      ],
      "execution_count": 145,
      "outputs": [
        {
          "output_type": "stream",
          "text": [
            "Writing ejercicio3.cpp\n"
          ],
          "name": "stdout"
        }
      ]
    },
    {
      "cell_type": "code",
      "metadata": {
        "id": "kxUFYHvDSbQk",
        "colab_type": "code",
        "colab": {
          "base_uri": "https://localhost:8080/",
          "height": 52
        },
        "outputId": "da782478-fcfc-451e-bff4-9434f2b30728"
      },
      "source": [
        "!g++ ejercicio3.cpp `pkg-config --cflags --libs opencv` -o filtrosOpenCV; ./filtrosOpenCV"
      ],
      "execution_count": 133,
      "outputs": [
        {
          "output_type": "stream",
          "text": [
            " Transformación Generada ... \n",
            " "
          ],
          "name": "stdout"
        }
      ]
    }
  ]
}