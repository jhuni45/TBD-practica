{
  "nbformat": 4,
  "nbformat_minor": 0,
  "metadata": {
    "colab": {
      "name": "Untitled2.ipynb",
      "provenance": []
    },
    "kernelspec": {
      "name": "python3",
      "display_name": "Python 3"
    },
    "accelerator": "GPU"
  },
  "cells": [
    {
      "cell_type": "code",
      "metadata": {
        "id": "NMK_FTOQD7CC",
        "colab_type": "code",
        "colab": {
          "base_uri": "https://localhost:8080/",
          "height": 211
        },
        "outputId": "12bf2b21-7930-4185-a50f-4eee4e52cceb"
      },
      "source": [
        "!pip install git+git://github.com/andreinechaev/nvcc4jupyter.git"
      ],
      "execution_count": 2,
      "outputs": [
        {
          "output_type": "stream",
          "text": [
            "Collecting git+git://github.com/andreinechaev/nvcc4jupyter.git\n",
            "  Cloning git://github.com/andreinechaev/nvcc4jupyter.git to /tmp/pip-req-build-chfzzwin\n",
            "  Running command git clone -q git://github.com/andreinechaev/nvcc4jupyter.git /tmp/pip-req-build-chfzzwin\n",
            "Building wheels for collected packages: NVCCPlugin\n",
            "  Building wheel for NVCCPlugin (setup.py) ... \u001b[?25l\u001b[?25hdone\n",
            "  Created wheel for NVCCPlugin: filename=NVCCPlugin-0.0.2-cp36-none-any.whl size=4307 sha256=13a15e0be96ab727d67f2e88b052f3f1d89e77709fd45f1d765252e0b4bb22f8\n",
            "  Stored in directory: /tmp/pip-ephem-wheel-cache-7la6zmum/wheels/10/c2/05/ca241da37bff77d60d31a9174f988109c61ba989e4d4650516\n",
            "Successfully built NVCCPlugin\n",
            "Installing collected packages: NVCCPlugin\n",
            "Successfully installed NVCCPlugin-0.0.2\n"
          ],
          "name": "stdout"
        }
      ]
    },
    {
      "cell_type": "code",
      "metadata": {
        "id": "KeNVsaYSE7_e",
        "colab_type": "code",
        "colab": {
          "base_uri": "https://localhost:8080/",
          "height": 52
        },
        "outputId": "5f5f150a-4d7b-4279-f7d1-62106b01f1cd"
      },
      "source": [
        "%load_ext nvcc_plugin"
      ],
      "execution_count": 3,
      "outputs": [
        {
          "output_type": "stream",
          "text": [
            "created output directory at /content/src\n",
            "Out bin /content/result.out\n"
          ],
          "name": "stdout"
        }
      ]
    },
    {
      "cell_type": "code",
      "metadata": {
        "id": "lfbcJqj8FjDS",
        "colab_type": "code",
        "colab": {
          "base_uri": "https://localhost:8080/",
          "height": 34
        },
        "outputId": "71489681-de63-4256-cf23-940d43a48550"
      },
      "source": [
        "%%writefile convolution.cu\n",
        "#include <iostream>\n",
        "#include <opencv2/core/core.hpp>\n",
        "#include <opencv2/highgui/highgui.hpp>\n",
        "#include <opencv2/imgproc/imgproc.hpp>\n",
        "\n",
        "using namespace std;\n",
        "using namespace cv;\n",
        "\n",
        "\n",
        "#define CHECK(call){const cudaError_t error = call;if (error != cudaSuccess){printf(\"Error: %s:%d, \", __FILE__, __LINE__);printf(\"code:%d, reason: %s\\n\", error, cudaGetErrorString(error));exit(1);}}\n",
        "\n",
        "// ------------------ cuda -----------------------------\n",
        "\n",
        "\n",
        "// template to easily create new cuda arrays\n",
        "template <class T>\n",
        "T* cuda_array(int n){\n",
        "  T* arr;\n",
        "  size_t tam = n * sizeof(T);\n",
        "  CHECK(cudaMalloc(&arr, tam));\n",
        "  return arr;\n",
        "}\n",
        "\n",
        "// template to copy array from host to device\n",
        "template <class T>\n",
        "void cuda_H2D(T* h_arr, T* d_arr, int n){\n",
        "  size_t tam = n * sizeof(T);\n",
        "  CHECK(cudaMemcpy(d_arr, h_arr, tam, cudaMemcpyHostToDevice));\n",
        "}\n",
        "\n",
        "// template to copy array from device to host\n",
        "template <class T>\n",
        "void cuda_D2H(T* d_arr, T* h_arr, int n){\n",
        "  size_t tam = n * sizeof(T);\n",
        "  CHECK(cudaMemcpy(h_arr, d_arr, tam, cudaMemcpyDeviceToHost));\n",
        "}\n",
        "\n",
        "\n",
        "__global__ void conv(unsigned char* d_data, float* d_kernel, int k, int p, int pos_k, int pos_p, int h, int w){\n",
        "  int i = blockIdx.x * blockDim.x + threadIdx.x;\n",
        "  int j = blockIdx.y * blockDim.y + threadIdx.y;\n",
        "  if(i < w && j < h){\n",
        "    float sum_c1 = 0;\n",
        "    float sum_c2 = 0;\n",
        "    float sum_c3 = 0;\n",
        "    for (size_t r = 0; r < k; r++) {\n",
        "      for (size_t c = 0; c < p; c++) {\n",
        "        sum_c1 += d_data[(j - pos_k + r) * (3 * w) + ((i - pos_p + c) * 3)] * d_kernel[r * p + c];\n",
        "        sum_c2 += d_data[(j - pos_k + r) * (3 * w) + ((i - pos_p + c) * 3) + 1] * d_kernel[r * p + c];\n",
        "        sum_c3 += d_data[(j - pos_k + r) * (3 * w) + ((i - pos_p + c) * 3) + 2] * d_kernel[r * p + c];\n",
        "      }\n",
        "    }\n",
        "    d_data[j * 3 * w + i * 3] = sum_c1;\n",
        "    d_data[j * 3 * w + i * 3 + 1] = sum_c2;\n",
        "    d_data[j * 3 * w + i * 3 + 2] = sum_c3;\n",
        "  }\n",
        "}\n",
        "\n",
        "Mat aplicar_filtro(Mat& img_i, float* kernel, int k , int p, int i, int j){\n",
        "  Mat img = img_i.clone();\n",
        "  int h, w;\n",
        "  h = img.size().height;\n",
        "  w = img.size().width;\n",
        "\n",
        "\n",
        "  float block_size = 16;\n",
        "  dim3 block =  dim3(block_size, block_size, 1);\n",
        "  dim3 grid =  dim3(ceil(w / block_size), ceil(h / block_size), 1);\n",
        "\n",
        "  unsigned char* data = (unsigned char*)img.data;\n",
        "  unsigned char* d_data = cuda_array<unsigned char>(h * w * 3);\n",
        "  float* d_kernel = cuda_array<float>(k * p);\n",
        "\n",
        "\n",
        "  cuda_H2D(data, d_data, h * w * 3);\n",
        "  cuda_H2D(kernel, d_kernel, k * p);\n",
        "  conv<<<grid, block>>>(d_data, d_kernel, k, p, i, j, h, w);\n",
        "  cudaDeviceSynchronize();\n",
        "  cuda_D2H(d_data, data, h * w * 3);\n",
        "  cudaFree(d_kernel);\n",
        "  return img;\n",
        "\n",
        "}\n",
        "\n",
        "\n",
        "\n",
        "\n",
        "\n",
        "\n",
        "int main(int argc, char const *argv[]) {\n",
        "  Mat img = imread(\"pokachu.png\");\n",
        "  //resize(img, img,cv::Size(), 0.1, 0.1);\n",
        "\n",
        "\n",
        "\n",
        "\n",
        "  float kernel_Sobel_X[9] =\n",
        "  {-1, 0, 1,\n",
        "  -2, 0, 2,\n",
        "  -1, 0, 1};\n",
        "\n",
        "  float kernel_Sobel_Y[9] =\n",
        "  {-1, -2, -1,\n",
        "   0, 0, 0,\n",
        "   1, 2, 1};\n",
        "\n",
        "  float kernel_perfilado[9] =\n",
        "  {-1, -1, -1,\n",
        "  -1, 9, -1,\n",
        "  -1, -1, -1};\n",
        "  float kernel_filtro_gaussiano_l[7] =\n",
        "  {1.0 / 64.0,\n",
        "  6.0 / 64.0,\n",
        "  15.0 / 64.0,\n",
        "  20.0 / 64.0,\n",
        "  15.0 / 64.0,\n",
        "  6.0 / 64.0,\n",
        "  1.0 / 64.0};\n",
        "\n",
        "\n",
        "  Mat sobel_x, sobel_y, perfilado, borde_suavizado, filtro_gaussiano;\n",
        "  sobel_x = aplicar_filtro(img, &kernel_Sobel_X[0], 3, 3, 1, 1);\n",
        "  sobel_y = aplicar_filtro(img, &kernel_Sobel_Y[0], 3, 3, 1, 1);\n",
        "  perfilado = aplicar_filtro(img, &kernel_perfilado[0], 3, 3, 1, 1);\n",
        "  filtro_gaussiano = aplicar_filtro(img, &kernel_filtro_gaussiano_l[0], 1, 7, 3, 1);\n",
        "  filtro_gaussiano = aplicar_filtro(filtro_gaussiano, &kernel_filtro_gaussiano_l[0], 7, 1, 0, 3);\n",
        "\n",
        "  //imwrite(\"Imagen original\", img);\n",
        "  cv::imwrite(\"Sobelx.png\", sobel_x);\n",
        "  cv::imwrite(\"Sobely.png\", sobel_y);\n",
        "  cv::imwrite(\"Perfilado.png\", perfilado);\n",
        "  cv::imwrite(\"FiltroGaussiano.png\", filtro_gaussiano);\n",
        "  waitKey(0);\n",
        "\n",
        "\n",
        "  return 0;\n",
        "}"
      ],
      "execution_count": 48,
      "outputs": [
        {
          "output_type": "stream",
          "text": [
            "Overwriting convolution.cu\n"
          ],
          "name": "stdout"
        }
      ]
    },
    {
      "cell_type": "code",
      "metadata": {
        "id": "gA6KhQZEFoxl",
        "colab_type": "code",
        "colab": {}
      },
      "source": [
        "!nvcc convolution.cu `pkg-config --cflags --libs opencv` -o convolution; ./convolution"
      ],
      "execution_count": 49,
      "outputs": []
    }
  ]
}