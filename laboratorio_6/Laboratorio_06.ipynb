{
  "nbformat": 4,
  "nbformat_minor": 0,
  "metadata": {
    "colab": {
      "name": "Laboratorio_06.ipynb",
      "provenance": [],
      "collapsed_sections": [],
      "toc_visible": true
    },
    "kernelspec": {
      "name": "python3",
      "display_name": "Python 3"
    },
    "accelerator": "GPU"
  },
  "cells": [
    {
      "cell_type": "markdown",
      "metadata": {
        "id": "1zUhlq_Xvf3W",
        "colab_type": "text"
      },
      "source": [
        "OBTENCIÓN DE LIBRERÍAS"
      ]
    },
    {
      "cell_type": "code",
      "metadata": {
        "id": "wRCICg3qKfGV",
        "colab_type": "code",
        "colab": {}
      },
      "source": [
        "!pip install git+git://github.com/andreinechaev/nvcc4jupyter.git"
      ],
      "execution_count": null,
      "outputs": []
    },
    {
      "cell_type": "code",
      "metadata": {
        "id": "vsdPgIRCLE8X",
        "colab_type": "code",
        "colab": {
          "base_uri": "https://localhost:8080/",
          "height": 52
        },
        "outputId": "692eadb9-edcf-4539-d25f-eb6025d5726b"
      },
      "source": [
        "%load_ext nvcc_plugin"
      ],
      "execution_count": null,
      "outputs": [
        {
          "output_type": "stream",
          "text": [
            "The nvcc_plugin extension is already loaded. To reload it, use:\n",
            "  %reload_ext nvcc_plugin\n"
          ],
          "name": "stdout"
        }
      ]
    },
    {
      "cell_type": "markdown",
      "metadata": {
        "id": "tjABpX4eHyMJ",
        "colab_type": "text"
      },
      "source": [
        "# Transformaciones Afines"
      ]
    },
    {
      "cell_type": "markdown",
      "metadata": {
        "id": "gUDCYt8JIM5B",
        "colab_type": "text"
      },
      "source": [
        "## Traslación"
      ]
    },
    {
      "cell_type": "code",
      "metadata": {
        "id": "plGYgZK-LbMJ",
        "colab_type": "code",
        "colab": {
          "base_uri": "https://localhost:8080/",
          "height": 34
        },
        "outputId": "ba78b978-ac37-4b43-d087-ddecc5efb0af"
      },
      "source": [
        "%%writefile affine.cu\n",
        "#include <bits/stdc++.h>\n",
        "#include <opencv2/opencv.hpp>\n",
        "#include <iostream>\n",
        "#include <iomanip>\n",
        "#include <cuda.h>\n",
        "#include <cuda_runtime.h>\n",
        "#include <cuda_runtime_api.h>\n",
        "#include <cassert>\n",
        "#include <cmath>\n",
        "#include <vector>\n",
        "\n",
        "#define checkCudaErrors(val) check( (val), #val, __FILE__, __LINE__)\n",
        "\n",
        "template<typename T>\n",
        "void check(T err, const char* const func, const char* const file, const int line) {\n",
        "  if (err != cudaSuccess) {\n",
        "    std::cerr << \"CUDA error at: \" << file << \":\" << line << std::endl;\n",
        "    std::cerr << cudaGetErrorString(err) << \" \" << func << std::endl;\n",
        "    exit(1);\n",
        "  }\n",
        "}\n",
        "\n",
        "\n",
        "// Max Threads per block in GeForce 210\n",
        "#define TxB 512\n",
        "\n",
        "__global__\n",
        "void affine_kernel(const uchar3* const inputImage,\n",
        "                         uchar3* const outputImage,\n",
        "                   float** d_affine_trans,\n",
        "                   int numRows, int numCols  ){\n",
        "    \n",
        "  int i = blockIdx.x * blockDim.x + threadIdx.x;\n",
        "\n",
        "  //TODO: Arreglar pasar la matriz de transformación\n",
        "\n",
        "  //traslacion\n",
        "  int affine[2][3] = {{1,0,200},{0,1,200}};\n",
        "\n",
        "  //escala\n",
        "  //int affine[2][3] = {{2,0,0},{0,2,0}};\n",
        "\n",
        "  //Rotacion\n",
        "  //float affine[2][3] = {{0.1542,-0.9880,0},{0.9880,0.1542,0}};\n",
        "\n",
        "  //Inclinacion\n",
        "  //int affine[2][3] = {{1,-20,0},{-20,1,0}};\n",
        "\n",
        "  if( i < numRows*numCols){      \n",
        "      //Obtención de coordenadas\n",
        "      int x = i/numCols;\n",
        "      int y = i%numCols;\n",
        "      //nueva posicióón\n",
        "      int x_n, y_n;\n",
        "\n",
        "      //Multiplicacion\n",
        "      x_n = affine[0][0]*x + affine[0][1]*y + affine[0][2];\n",
        "      y_n = affine[1][0]*x + affine[1][1]*y + affine[1][2];\n",
        "\n",
        "      //printf(\"(%d,%d) -> (%d,%d) \\n\", x,y,new_coord[0], new_coord[1]);\n",
        "\n",
        "      __syncthreads();\n",
        "\n",
        "      //TODO: Columna circular\n",
        "      if( (x_n*numCols + y_n) < numRows*numCols ){\n",
        "          outputImage[ x_n*numCols + y_n ] = inputImage[i];\n",
        "      }\n",
        "      \n",
        "\n",
        "  }              \n",
        "    \n",
        "\n",
        "}\n",
        "\n",
        "\n",
        "void affine_transform(const uchar3* const d_inputImage,\n",
        "                            uchar3* const d_outputImage,\n",
        "                      float** d_affine_trans,\n",
        "                      int numRows, int numCols )\n",
        "{\n",
        "    \n",
        "\n",
        "  // Dado que no importa la posicion relativa de los pixels\n",
        "  // en este algoritmo, la estrategia para asignar hilos a\n",
        "  // bloques y rejillas sera sencillamente la de cubrir\n",
        "  // a todos los pixeles con hebras en el eje X\n",
        "  long long int total_px = numRows * numCols;  // total pixels\n",
        "  long int grids_n = ceil(total_px / TxB); // grids numer\n",
        "  const dim3 blockSize(TxB, 1, 1);\n",
        "  const dim3 gridSize(grids_n, 1, 1);\n",
        "  affine_kernel<<<gridSize, blockSize>>>(d_inputImage, d_outputImage,d_affine_trans, numRows, numCols);\n",
        "  \n",
        "  cudaDeviceSynchronize(); \n",
        "  checkCudaErrors(cudaGetLastError());\n",
        "\n",
        "}\n",
        "\n",
        "int main(){\n",
        "    \n",
        "    uchar3  *h_inputImage,   *d_inputImage;\n",
        "    uchar3  *h_outputImage,  *d_outputImage;\n",
        "    float ** d_affine_trans;\n",
        "    //traslación\n",
        "    float h_affine_trans[2][3] = {{1.0,0.0,2.0},\n",
        "                                  {0.0,1.0,2.0}};\n",
        "\n",
        "    //Imagen de entrada\n",
        "    std::string inputImageFile = \"guy.png\";\n",
        "    std::string outputImageFile = \"guy_affine.png\";\n",
        "\n",
        "    //PREPROCESADO DE LA IMAGEN\n",
        "\n",
        "    //Matrices de las imagenes\n",
        "    cv::Mat inputImageMat;\n",
        "    cv::Mat outputImageMat;\n",
        "\n",
        "    //Punteros hacia el inicio de la imagen\n",
        "    //Necesarios para luego liberar memoria\n",
        "    uchar3        *d_inputImage__;\n",
        "    uchar3        *d_outputImage__;\n",
        "\n",
        "\n",
        "    //Comprobar que el contexto se inicializa bien\n",
        "    checkCudaErrors(cudaFree(0));\n",
        "\n",
        "    inputImageMat = cv::imread(inputImageFile.c_str(), CV_LOAD_IMAGE_COLOR);\n",
        "    \n",
        "    if (inputImageMat.empty()) {\n",
        "      std::cerr << \"No se pudo abrir el archivo: \" << inputImageFile << std::endl;\n",
        "      exit(1);\n",
        "    }\n",
        "\n",
        "\n",
        "    // Reserva memoria para el output\n",
        "    outputImageMat.create(inputImageMat.rows, inputImageMat.cols, CV_8UC3);\n",
        "\n",
        "    //This shouldn't ever happen given the way the images are created\n",
        "    //at least based upon my limited understanding of OpenCV, but better to check\n",
        "    if (!inputImageMat.isContinuous() || !outputImageMat.isContinuous()) {\n",
        "      std::cerr << \"Images aren't continuous!! Exiting.\" << std::endl;\n",
        "      exit(1);\n",
        "    }\n",
        "\n",
        "    //Apuntamos al comienzo de las filas\n",
        "    h_inputImage   = (uchar3 *)inputImageMat.ptr<unsigned char>(0);\n",
        "    h_outputImage  = (uchar3 *)outputImageMat.ptr<unsigned char>(0);\n",
        "\n",
        "    const size_t numPixels = inputImageMat.rows * inputImageMat.cols;\n",
        "    //Reserva memoria en el dispositivo\n",
        "    checkCudaErrors(cudaMalloc(&d_inputImage,  sizeof(uchar3) * numPixels));\n",
        "    checkCudaErrors(cudaMalloc(&d_outputImage, sizeof(uchar3) * numPixels));\n",
        "    checkCudaErrors(cudaMalloc(&d_affine_trans, sizeof(float)*2*3 ));\n",
        "    checkCudaErrors(cudaMemset(d_outputImage, 0, numPixels * sizeof(uchar3))); // Asegurate de que no queda memoria sin liberar\n",
        "\n",
        "    // Copia el input en la GPU\n",
        "    checkCudaErrors(cudaMemcpy(d_inputImage, h_inputImage, sizeof(uchar3) * numPixels, cudaMemcpyHostToDevice));\n",
        "    checkCudaErrors(cudaMemcpy(d_affine_trans, h_affine_trans, sizeof( sizeof(float)*2*3 ), cudaMemcpyHostToDevice));\n",
        "\n",
        "    d_inputImage__  = d_inputImage;\n",
        "    d_outputImage__ = d_outputImage;\n",
        "\n",
        "\n",
        "    //LLAMADA DE LA FUNCIÓN CUDA\n",
        "    affine_transform(d_inputImage, d_outputImage, d_affine_trans, inputImageMat.rows, inputImageMat.cols);\n",
        "\n",
        "\n",
        "    //EXTRACCIÓN DE IMAGEN\n",
        "    checkCudaErrors(cudaMemcpy(h_outputImage, d_outputImage, sizeof(uchar3) * numPixels, cudaMemcpyDeviceToHost));\n",
        "\n",
        "    //Guardamos la imagen\n",
        "    cv::Mat output(inputImageMat.rows, inputImageMat.cols, CV_8UC3, (void*)h_outputImage);\n",
        "    cv::imwrite(outputImageFile.c_str(), output);\n",
        "\n",
        "    /* Libera memoria */\n",
        "    cudaFree(d_inputImage__);\n",
        "    cudaFree(d_outputImage__);\n",
        "\n",
        "    return 0;\n",
        "}\n",
        "\n"
      ],
      "execution_count": null,
      "outputs": [
        {
          "output_type": "stream",
          "text": [
            "Overwriting affine.cu\n"
          ],
          "name": "stdout"
        }
      ]
    },
    {
      "cell_type": "markdown",
      "metadata": {
        "id": "rtECxqzWLyjh",
        "colab_type": "text"
      },
      "source": [
        "Ejecución del kernel"
      ]
    },
    {
      "cell_type": "code",
      "metadata": {
        "id": "KvtbPzeVLQiH",
        "colab_type": "code",
        "colab": {}
      },
      "source": [
        "!nvcc affine.cu `pkg-config --cflags --libs opencv` -o affine; ./affine"
      ],
      "execution_count": null,
      "outputs": []
    }
  ]
}